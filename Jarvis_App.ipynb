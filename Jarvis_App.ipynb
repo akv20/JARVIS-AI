{
 "cells": [
  {
   "cell_type": "code",
   "execution_count": null,
   "metadata": {},
   "outputs": [],
   "source": [
    "import speech_recognition as sr\n",
    "#import pyaudio\n",
    "import pyttsx3\n",
    "import pywhatkit\n",
    "import datetime\n",
    "import wikipedia\n",
    "import pyjokes\n",
    "import sys\n",
    "\n",
    "listener = sr.Recognizer()\n",
    "engine = pyttsx3.init()\n",
    "voices = engine.getProperty('voices')\n",
    "engine.setProperty('voice', voices[0].id)\n",
    "\n",
    "def talk(text):    \n",
    "    engine.say(text)\n",
    "    engine.runAndWait()\n",
    "\n",
    "def take_command():\n",
    "    try:\n",
    "        with sr.Microphone() as source:\n",
    "            listener.adjust_for_ambient_noise(source,duration=1)\n",
    "            print(\"Listening...\")\n",
    "            voice = listener.listen(source, timeout=3)\n",
    "            command = listener.recognize_google(voice)\n",
    "            command = command.lower()\n",
    "\n",
    "            if 'jarvis' in command:\n",
    "                command = command.replace('jarvis', '')\n",
    "                #print(command)\n",
    "    \n",
    "    except:\n",
    "        pass\n",
    "    \n",
    "    return command\n",
    "\n",
    "def run_jarvis():\n",
    "    command = take_command()\n",
    "    print(command)\n",
    "    if 'play' in command:\n",
    "        song = command.replace('play', '')\n",
    "        talk('Playing'+ song)\n",
    "        pywhatkit.playonyt(song)\n",
    "    \n",
    "    elif 'time' in command:\n",
    "        time = datetime.datetime.now().strftime('%I:%M %p')\n",
    "        talk('Current time is '+ time)\n",
    "    \n",
    "    elif 'who' in command:\n",
    "        person = command.replace('who', '')\n",
    "        info = wikipedia.summary(person, 2)\n",
    "        print(info)\n",
    "        talk(info)\n",
    "    elif 'joke' in command:\n",
    "        a = talk(pyjokes.get_joke())\n",
    "        print(a)\n",
    "    elif 'stop' in command:\n",
    "        sys.exit()\n",
    "    else:\n",
    "        talk('Please say it again')\n",
    "        \n",
    "while True:\n",
    "    run_jarvis()"
   ]
  },
  {
   "cell_type": "code",
   "execution_count": null,
   "metadata": {},
   "outputs": [],
   "source": []
  },
  {
   "cell_type": "code",
   "execution_count": null,
   "metadata": {},
   "outputs": [],
   "source": []
  },
  {
   "cell_type": "code",
   "execution_count": null,
   "metadata": {},
   "outputs": [],
   "source": []
  }
 ],
 "metadata": {
  "kernelspec": {
   "display_name": "Python 3",
   "language": "python",
   "name": "python3"
  },
  "language_info": {
   "codemirror_mode": {
    "name": "ipython",
    "version": 3
   },
   "file_extension": ".py",
   "mimetype": "text/x-python",
   "name": "python",
   "nbconvert_exporter": "python",
   "pygments_lexer": "ipython3",
   "version": "3.8.5"
  }
 },
 "nbformat": 4,
 "nbformat_minor": 4
}
